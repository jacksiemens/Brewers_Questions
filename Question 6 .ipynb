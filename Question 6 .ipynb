{
 "cells": [
  {
   "cell_type": "markdown",
   "metadata": {},
   "source": [
    "## Q6"
   ]
  },
  {
   "cell_type": "code",
   "execution_count": 2,
   "metadata": {},
   "outputs": [
    {
     "data": {
      "application/vnd.jupyter.widget-view+json": {
       "model_id": "517d569055164d10b4453068f6b29890",
       "version_major": 2,
       "version_minor": 0
      },
      "text/plain": [
       "interactive(children=(FloatSlider(value=3.0, description='distance_from_base', max=6.0), Output()), _dom_class…"
      ]
     },
     "execution_count": 2,
     "metadata": {},
     "output_type": "execute_result"
    }
   ],
   "source": [
    "import matplotlib.pyplot as plt\n",
    "from ipywidgets import interactive\n",
    "import numpy as np\n",
    "\n",
    "def plot_triangle(distance_from_base):\n",
    "    # Define figure and axis\n",
    "    fig, ax = plt.subplots(figsize=(8, 8))\n",
    "    \n",
    "    # The max reach when the player is not stretched is the base of the triangle\n",
    "    max_base_width = 6  # Max width of the base of the triangle at zero stretch\n",
    "    \n",
    "    # Calculate the width of the base of the triangle based on the distance\n",
    "    # The base width decreases as the player stretches further (as the height of the triangle increases)\n",
    "    base_width = max_base_width * (1 - (distance_from_base / max_reach))\n",
    "\n",
    "    # Triangle vertices\n",
    "    # The base of the triangle faces outward from the base\n",
    "    triangle = np.array([[0, 0], \n",
    "                         [-base_width / 2, distance_from_base], \n",
    "                         [base_width / 2, distance_from_base]])\n",
    "    \n",
    "    # Plot the triangle representing the defensive range\n",
    "    ax.add_patch(plt.Polygon(triangle, color='blue', alpha=0.3))\n",
    "\n",
    "    # Plot the first base as a line\n",
    "    ax.plot([-max_base_width / 2, max_base_width / 2], [0, 0], 'k-', lw=2)\n",
    "    \n",
    "    # Set plot limits and aspect\n",
    "    ax.set_xlim(-max_base_width / 2, max_base_width / 2)\n",
    "    ax.set_ylim(0, max_reach)\n",
    "    ax.set_aspect('equal', 'box')\n",
    "    ax.set_title('First Baseman Defensive Range as a Triangle')\n",
    "    ax.set_xlabel('Horizontal Reach (feet)')\n",
    "    ax.set_ylabel('Distance from Base (feet)')\n",
    "\n",
    "    # Remove y-axis ticks and x-axis ticks, leaving only labels and title\n",
    "    ax.yaxis.set_major_locator(plt.NullLocator())\n",
    "    ax.xaxis.set_major_locator(plt.NullLocator())\n",
    "\n",
    "    # Show the plot\n",
    "    plt.grid(True)\n",
    "    plt.show()\n",
    "\n",
    "# Maximum reach parameter\n",
    "max_reach = 6\n",
    "\n",
    "# Create interactive plot with distance_from_base slider\n",
    "interactive_plot = interactive(plot_triangle, distance_from_base=(0, max_reach, 0.1))\n",
    "interactive_plot\n"
   ]
  }
 ],
 "metadata": {
  "kernelspec": {
   "display_name": "Python 3",
   "language": "python",
   "name": "python3"
  },
  "language_info": {
   "codemirror_mode": {
    "name": "ipython",
    "version": 3
   },
   "file_extension": ".py",
   "mimetype": "text/x-python",
   "name": "python",
   "nbconvert_exporter": "python",
   "pygments_lexer": "ipython3",
   "version": "3.10.4"
  },
  "orig_nbformat": 4
 },
 "nbformat": 4,
 "nbformat_minor": 2
}
