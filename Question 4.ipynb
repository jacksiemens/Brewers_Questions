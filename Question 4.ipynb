{
 "cells": [
  {
   "cell_type": "markdown",
   "metadata": {},
   "source": [
    "## Q4"
   ]
  },
  {
   "cell_type": "code",
   "execution_count": 1,
   "metadata": {},
   "outputs": [
    {
     "data": {
      "text/plain": [
       "(145216, 262144, 0.553955078125)"
      ]
     },
     "execution_count": 1,
     "metadata": {},
     "output_type": "execute_result"
    }
   ],
   "source": [
    "from itertools import product\n",
    "\n",
    "# Initial standings as provided\n",
    "standings = {\n",
    "    'PHI': {'Wins': 89, 'Losses': 70},\n",
    "    'ARI': {'Wins': 84, 'Losses': 75},\n",
    "    'MIA': {'Wins': 82, 'Losses': 76},\n",
    "    'CHC': {'Wins': 82, 'Losses': 77},\n",
    "    'CIN': {'Wins': 81, 'Losses': 78},\n",
    "    'SD': {'Wins': 79, 'Losses': 80}\n",
    "}\n",
    "\n",
    "# Each team has 3 remaining games\n",
    "remaining_games = {team: 3 for team in standings}\n",
    "\n",
    "# Function to simulate outcomes of the season\n",
    "def simulate_season(standings, outcomes):\n",
    "    \"\"\"\n",
    "    Purpose: To simulate the season's end based on given outcomes for the remaining games.\n",
    "\n",
    "    Process:\n",
    "        A temporary copy of the current standings is made to update the standings without altering the original data.\n",
    "        For each team, it updates the number of wins and losses based on the simulated outcomes (1 for a win, 0 for a loss).\n",
    "\n",
    "    Returns: The updated standings after accounting for the outcomes of the remaining games.\n",
    "    \"\"\"\n",
    "    temp_standings = {team: {'Wins': standings[team]['Wins'], 'Losses': standings[team]['Losses']} for team in standings}\n",
    "    for team, outcome in outcomes.items():\n",
    "        temp_standings[team]['Wins'] += outcome.count(1)  # Counting wins\n",
    "        temp_standings[team]['Losses'] += outcome.count(0)  # Counting losses\n",
    "    return temp_standings\n",
    "\n",
    "# Function to determine if the suspended game affects Wild Card seeding\n",
    "def is_game_necessary_for_seeding(final_standings):\n",
    "    \"\"\"\n",
    "    Purpose: To determine if the suspended game is necessary for deciding the final seeding of the Wild Card teams.\n",
    "\n",
    "    Process:\n",
    "        - Calculates the winning percentage for each team.\n",
    "        - Sorts the teams based on their winning percentage, applying tiebreaker rules (San Diego over everyone, Miami over everyone except San Diego).\n",
    "        - Checks if the outcome of the suspended game could change Miami's position within or into the top three teams.\n",
    "\n",
    "    Returns: True if the suspended game affects the seeding, False otherwise\n",
    "    \"\"\"\n",
    "    # Calculate the winning percentage for sorting\n",
    "    for team_stats in final_standings.values():\n",
    "        team_stats['WinPct'] = team_stats['Wins'] / (team_stats['Wins'] + team_stats['Losses'])\n",
    "\n",
    "    # Sorting teams based on winning percentage, and applying tiebreaker rules\n",
    "    sorted_teams = sorted(\n",
    "        final_standings.items(),\n",
    "        key=lambda x: (-x[1]['WinPct'], x[0] != 'SD', x[0] == 'MIA')\n",
    "    )\n",
    "\n",
    "    # Extracting teams in the playoff positions and their immediate followers\n",
    "    playoff_teams = sorted_teams[:3]\n",
    "    fourth_place_team = sorted_teams[3]\n",
    "\n",
    "    # Check if Miami's game affects their seeding among the top 3 or if they could jump into the top 3 with a win\n",
    "    for i in range(3):\n",
    "        if sorted_teams[i][0] == 'MIA' and \\\n",
    "           (sorted_teams[3][1]['WinPct'] >= sorted_teams[i][1]['WinPct'] or \\\n",
    "           (sorted_teams[i][1]['WinPct'] - 1/(sorted_teams[i][1]['Wins'] + sorted_teams[i][1]['Losses'] + 1)) <= sorted_teams[3][1]['WinPct']):\n",
    "            return True\n",
    "    if fourth_place_team[0] == 'MIA' and \\\n",
    "       (fourth_place_team[1]['WinPct'] + 1/(fourth_place_team[1]['Wins'] + fourth_place_team[1]['Losses'] + 1)) > playoff_teams[2][1]['WinPct']:\n",
    "        return True\n",
    "\n",
    "    return False\n",
    "\n",
    "# Counting scenarios where the game is necessary for seeding\n",
    "necessary_game_count_seeding = 0\n",
    "total_outcomes = 2 ** (3 * len(remaining_games))  # Total number of outcomes\n",
    "\n",
    "# Iterating over all possible outcomes\n",
    "for outcome in product([0, 1], repeat=sum(remaining_games.values())):\n",
    "    \"\"\"\n",
    "    This code iterates over every possible combination of wins and losses for the remaining games.\n",
    "\n",
    "    - product([0, 1], repeat=sum(remaining_games.values())) generates all combinations of game results (0s and 1s) for the remaining games of all teams.\n",
    "\n",
    "    - outcome_by_team maps each team to their specific game outcomes from the generated combinations.\n",
    "\n",
    "    - For each combination, it updates the standings using simulate_season and then checks if the suspended game is necessary for seeding with is_game_necessary_for_seeding.\n",
    "    \n",
    "    \"\"\"\n",
    "    outcome_by_team = {team: outcome[i*3:(i+1)*3] for i, team in enumerate(remaining_games)}\n",
    "    final_standings = simulate_season(standings, outcome_by_team)\n",
    "    if is_game_necessary_for_seeding(final_standings):\n",
    "        necessary_game_count_seeding += 1\n",
    "\n",
    "# Calculating the probability\n",
    "probability_seeding = necessary_game_count_seeding / total_outcomes\n",
    "necessary_game_count_seeding, total_outcomes, probability_seeding\n"
   ]
  }
 ],
 "metadata": {
  "kernelspec": {
   "display_name": "Python 3",
   "language": "python",
   "name": "python3"
  },
  "language_info": {
   "codemirror_mode": {
    "name": "ipython",
    "version": 3
   },
   "file_extension": ".py",
   "mimetype": "text/x-python",
   "name": "python",
   "nbconvert_exporter": "python",
   "pygments_lexer": "ipython3",
   "version": "3.10.4"
  },
  "orig_nbformat": 4
 },
 "nbformat": 4,
 "nbformat_minor": 2
}
